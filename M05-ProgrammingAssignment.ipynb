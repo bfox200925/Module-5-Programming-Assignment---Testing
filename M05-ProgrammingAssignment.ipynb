{
 "cells": [
  {
   "cell_type": "markdown",
   "id": "84bff5c6-5df2-401a-afb2-f1893742e42e",
   "metadata": {},
   "source": [
    "Module 5 Programming Assignment\n",
    "Brittany Fox"
   ]
  },
  {
   "cell_type": "markdown",
   "id": "bdae26e2-d18e-4654-ac0b-623079e4bf0b",
   "metadata": {},
   "source": [
    "Section: Testing Your Code:"
   ]
  },
  {
   "cell_type": "code",
   "execution_count": 2,
   "id": "f71ce603-2e50-48e9-b9c2-3609f09f65a2",
   "metadata": {},
   "outputs": [],
   "source": [
    ">>> assert sum([1, 2, 3]) == 6, \"Should be 6\""
   ]
  },
  {
   "cell_type": "markdown",
   "id": "4663dfff-b1ba-45af-9aeb-822629e7a1d8",
   "metadata": {},
   "source": [
    "The code above will not output anything because the values are correct."
   ]
  },
  {
   "cell_type": "markdown",
   "id": "648697b1-85a9-4f48-a0dc-5b797c6281cc",
   "metadata": {},
   "source": [
    "...................................................................................................................................."
   ]
  },
  {
   "cell_type": "code",
   "execution_count": 4,
   "id": "197eff75-71cc-43e3-a739-c83148ca1fd8",
   "metadata": {},
   "outputs": [
    {
     "ename": "AssertionError",
     "evalue": "Should be 6",
     "output_type": "error",
     "traceback": [
      "\u001b[1;31m---------------------------------------------------------------------------\u001b[0m",
      "\u001b[1;31mAssertionError\u001b[0m                            Traceback (most recent call last)",
      "Cell \u001b[1;32mIn[4], line 1\u001b[0m\n\u001b[1;32m----> 1\u001b[0m \u001b[38;5;28;01massert\u001b[39;00m \u001b[38;5;28msum\u001b[39m([\u001b[38;5;241m1\u001b[39m, \u001b[38;5;241m1\u001b[39m, \u001b[38;5;241m1\u001b[39m]) \u001b[38;5;241m==\u001b[39m \u001b[38;5;241m6\u001b[39m, \u001b[38;5;124m\"\u001b[39m\u001b[38;5;124mShould be 6\u001b[39m\u001b[38;5;124m\"\u001b[39m\n",
      "\u001b[1;31mAssertionError\u001b[0m: Should be 6"
     ]
    }
   ],
   "source": [
    ">>> assert sum([1, 1, 1]) == 6, \"Should be 6\""
   ]
  },
  {
   "cell_type": "markdown",
   "id": "c27cbc24-658a-4445-a873-827c362216ef",
   "metadata": {},
   "source": [
    "This code above raises an AssertionError because the result of sum() does not match 6."
   ]
  },
  {
   "cell_type": "markdown",
   "id": "0df0c76a-4fc7-48e1-becf-fc6b8070cd63",
   "metadata": {},
   "source": [
    "..................................................................................................................................................................."
   ]
  },
  {
   "cell_type": "code",
   "execution_count": 5,
   "id": "e18e6db4-b434-4b95-a050-bfbe94f2d227",
   "metadata": {},
   "outputs": [
    {
     "name": "stdout",
     "output_type": "stream",
     "text": [
      "Everything passed\n"
     ]
    }
   ],
   "source": [
    "def test_sum():\n",
    "    assert sum([1, 2, 3]) == 6, \"Should be 6\"\n",
    "\n",
    "if __name__ == \"__main__\":\n",
    "    test_sum()\n",
    "    print(\"Everything passed\")"
   ]
  },
  {
   "cell_type": "markdown",
   "id": "b26210f2-b73b-4977-bb6d-e515f2b47ca8",
   "metadata": {},
   "source": [
    "After writing a test case, an assertion, and an entry point. When executed the successful result shows that everything passed."
   ]
  },
  {
   "cell_type": "markdown",
   "id": "e3b0e090-4e35-4a6d-989a-a9aa69a4b99d",
   "metadata": {},
   "source": [
    "........................................................................................................................................................................................................................."
   ]
  },
  {
   "cell_type": "code",
   "execution_count": 7,
   "id": "3947f39c-117f-47fe-9a9f-f12d73fb6c87",
   "metadata": {},
   "outputs": [
    {
     "ename": "AssertionError",
     "evalue": "Should be 6",
     "output_type": "error",
     "traceback": [
      "\u001b[1;31m---------------------------------------------------------------------------\u001b[0m",
      "\u001b[1;31mAssertionError\u001b[0m                            Traceback (most recent call last)",
      "Cell \u001b[1;32mIn[7], line 9\u001b[0m\n\u001b[0;32m      7\u001b[0m \u001b[38;5;28;01mif\u001b[39;00m \u001b[38;5;18m__name__\u001b[39m \u001b[38;5;241m==\u001b[39m \u001b[38;5;124m\"\u001b[39m\u001b[38;5;124m__main__\u001b[39m\u001b[38;5;124m\"\u001b[39m:\n\u001b[0;32m      8\u001b[0m     test_sum()\n\u001b[1;32m----> 9\u001b[0m     test_sum_tuple()\n\u001b[0;32m     10\u001b[0m     \u001b[38;5;28mprint\u001b[39m(\u001b[38;5;124m\"\u001b[39m\u001b[38;5;124mEverything passed\u001b[39m\u001b[38;5;124m\"\u001b[39m)\n",
      "Cell \u001b[1;32mIn[7], line 5\u001b[0m, in \u001b[0;36mtest_sum_tuple\u001b[1;34m()\u001b[0m\n\u001b[0;32m      4\u001b[0m \u001b[38;5;28;01mdef\u001b[39;00m \u001b[38;5;21mtest_sum_tuple\u001b[39m():\n\u001b[1;32m----> 5\u001b[0m     \u001b[38;5;28;01massert\u001b[39;00m \u001b[38;5;28msum\u001b[39m((\u001b[38;5;241m1\u001b[39m, \u001b[38;5;241m2\u001b[39m, \u001b[38;5;241m2\u001b[39m)) \u001b[38;5;241m==\u001b[39m \u001b[38;5;241m6\u001b[39m, \u001b[38;5;124m\"\u001b[39m\u001b[38;5;124mShould be 6\u001b[39m\u001b[38;5;124m\"\u001b[39m\n",
      "\u001b[1;31mAssertionError\u001b[0m: Should be 6"
     ]
    }
   ],
   "source": [
    "def test_sum():\n",
    "    assert sum([1, 2, 3]) == 6, \"Should be 6\"\n",
    "\n",
    "def test_sum_tuple():\n",
    "    assert sum((1, 2, 2)) == 6, \"Should be 6\"\n",
    "\n",
    "if __name__ == \"__main__\":\n",
    "    test_sum()\n",
    "    test_sum_tuple()\n",
    "    print(\"Everything passed\")"
   ]
  },
  {
   "cell_type": "markdown",
   "id": "f8f8e17b-cf69-41d1-87bc-0ef14147ce45",
   "metadata": {},
   "source": [
    "In the above code when you execute test_sum_2.py, the script will give an error because the sum() of (1, 2, 2) is 5 and not equal to 6. "
   ]
  },
  {
   "cell_type": "markdown",
   "id": "09060a40-e858-43f0-8ae9-fa6d49b72321",
   "metadata": {},
   "source": [
    "..................................................................................................................................................................................................................................................................."
   ]
  },
  {
   "cell_type": "code",
   "execution_count": null,
   "id": "202ed279-3c83-4136-97c1-fb9a292b0e29",
   "metadata": {},
   "outputs": [],
   "source": [
    "import unittest\n",
    "\n",
    "\n",
    "class TestSum(unittest.TestCase):\n",
    "\n",
    "    def test_sum(self):\n",
    "        self.assertEqual(sum([1, 2, 3]), 6, \"Should be 6\")\n",
    "\n",
    "    def test_sum_tuple(self):\n",
    "        self.assertEqual(sum((1, 2, 2)), 6, \"Should be 6\")\n",
    "\n",
    "if __name__ == '__main__':\n",
    "    unittest.main()"
   ]
  },
  {
   "cell_type": "markdown",
   "id": "a979e710-ee52-40b9-9566-fc8989208a94",
   "metadata": {},
   "source": [
    "When executed you’ll see one success (indicated with .) and one failure (indicated with F) as shown below:\n",
    "\n",
    "$ python test_sum_unittest.py\n",
    ".F\n",
    "\n",
    "FAIL: test_sum_tuple (__main__.TestSum)\n",
    "\n",
    "Traceback (most recent call last):\n",
    "  File \"test_sum_unittest.py\", line 9, in test_sum_tuple\n",
    "    self.assertEqual(sum((1, 2, 2)), 6, \"Should be 6\")\n",
    "AssertionError: Should be 6\n",
    "\n",
    "Ran 2 tests in 0.001s\n",
    "\n",
    "FAILED (failures=1)"
   ]
  },
  {
   "cell_type": "markdown",
   "id": "bea56307-9239-4a3e-8c3c-4d3a70bd54bf",
   "metadata": {},
   "source": [
    "..............................................................................................................................................."
   ]
  },
  {
   "cell_type": "markdown",
   "id": "e5df3512-d654-4f4d-a3ec-38ff4e51134d",
   "metadata": {},
   "source": [
    "Section: Writing Your First Test:"
   ]
  },
  {
   "cell_type": "code",
   "execution_count": 8,
   "id": "d42bf2a5-d4b8-4a83-a48e-c01a9e5ab3fd",
   "metadata": {},
   "outputs": [],
   "source": [
    "def sum(arg):\n",
    "    total = 0\n",
    "    for val in arg:\n",
    "        total += val\n",
    "    return total"
   ]
  },
  {
   "cell_type": "markdown",
   "id": "43b095c7-50ed-4995-ae1b-a163890430a7",
   "metadata": {},
   "source": [
    "This creates a variable called total and iterates it over all the values in arg, and adds them to total. The result is then given once the iterable has been exhausted."
   ]
  },
  {
   "cell_type": "code",
   "execution_count": null,
   "id": "73ecdc14-5db0-4d75-a216-288b7b57e770",
   "metadata": {},
   "outputs": [],
   "source": [
    "import unittest\n",
    "\n",
    "from my_sum import sum\n",
    "\n",
    "\n",
    "class TestSum(unittest.TestCase):\n",
    "    def test_list_int(self):\n",
    "        \"\"\"\n",
    "        Test that it can sum a list of integers\n",
    "        \"\"\"\n",
    "        data = [1, 2, 3]\n",
    "        result = sum(data)\n",
    "        self.assertEqual(result, 6)\n",
    "\n",
    "if __name__ == '__main__':\n",
    "    unittest.main()"
   ]
  },
  {
   "cell_type": "markdown",
   "id": "440666a4-b99f-4b8e-8334-f210acce903b",
   "metadata": {},
   "source": [
    "This code imports sum() from the my_sum package created and defines a new test case class called TestSum.\n",
    "This inherits from unittest.TestCase. The code then defines a test method .test_list_int(), to test a list of integers. \n",
    "The method .test_list_int() declare a variable data with a list of numbers (1, 2, 3), assigns the result of \n",
    "my_sum.sum(data) to a result variable and asserts that the value of result equals 6."
   ]
  },
  {
   "cell_type": "markdown",
   "id": "07b329bd-a1e0-41f8-bd83-1b5226402994",
   "metadata": {},
   "source": [
    "...................................................................................................................................................................................................................................................................................................................................."
   ]
  },
  {
   "cell_type": "markdown",
   "id": "ea11ab2c-1064-4a2d-85cd-571d779cd956",
   "metadata": {},
   "source": [
    "Section: Executing Your First Test:"
   ]
  },
  {
   "cell_type": "code",
   "execution_count": null,
   "id": "89b0f541-05b7-4f33-bdf5-212c15141273",
   "metadata": {},
   "outputs": [],
   "source": [
    "import unittest\n",
    "\n",
    "from my_sum import sum\n",
    "\n",
    "\n",
    "class TestSum(unittest.TestCase):\n",
    "    def test_list_int(self):\n",
    "        \"\"\"\n",
    "        Test that it can sum a list of integers\n",
    "        \"\"\"\n",
    "        data = [1, 2, 3]\n",
    "        result = sum(data)\n",
    "        self.assertEqual(result, 6)\n",
    "\n",
    "    def test_list_fraction(self):\n",
    "        \"\"\"\n",
    "        Test that it can sum a list of fractions\n",
    "        \"\"\"\n",
    "        data = [Fraction(1, 4), Fraction(1, 4), Fraction(2, 5)]\n",
    "        result = sum(data)\n",
    "        self.assertEqual(result, 1)\n",
    "\n",
    "if __name__ == '__main__':\n",
    "    unittest.main()"
   ]
  },
  {
   "cell_type": "markdown",
   "id": "52433e1e-7ff2-4901-b256-245af60e5459",
   "metadata": {},
   "source": [
    "When you execute the tests with python you see that The first line shows the execution\n",
    "results of all the tests, one failed (F) and one passed (.). The FAIL entry shows some details about the failed test\n",
    "including the test method name, the test module, and the test case. The details of the assertion with the expected \n",
    "result (1) and the actual result (Fraction(9, 10))"
   ]
  }
 ],
 "metadata": {
  "kernelspec": {
   "display_name": "Python 3 (ipykernel)",
   "language": "python",
   "name": "python3"
  },
  "language_info": {
   "codemirror_mode": {
    "name": "ipython",
    "version": 3
   },
   "file_extension": ".py",
   "mimetype": "text/x-python",
   "name": "python",
   "nbconvert_exporter": "python",
   "pygments_lexer": "ipython3",
   "version": "3.12.4"
  }
 },
 "nbformat": 4,
 "nbformat_minor": 5
}
